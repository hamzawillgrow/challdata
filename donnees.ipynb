{
 "cells": [
  {
   "cell_type": "markdown",
   "metadata": {},
   "source": [
    "# Définition des stopwords"
   ]
  },
  {
   "cell_type": "code",
   "execution_count": 1,
   "metadata": {},
   "outputs": [],
   "source": [
    "# -*- coding: utf-8 -*-\n",
    "stopwords= [\n",
    "    'a', 'à', 'abord', 'absolument', 'afin', 'ah', 'ai', 'aie', 'aient', 'aies', 'ailleurs', 'ainsi', 'ait', 'allaient', 'allo', 'allons', 'allô', 'alors', 'après', 'as', 'assez', 'attendu', 'au', 'aucun', 'aucune', \"aujourdhui\", 'aura', 'auront', 'aussi', 'autre', 'autrement', 'autres', 'autrui', 'aux', 'auxquelles', 'auxquels', 'avaient', 'avais', 'avait', 'avant', 'avec', 'avoir', 'avons', 'ayant', 'b', 'bah', 'bas', 'basee', 'bat', 'beau', 'beaucoup', 'bien', 'bigre', 'boum', 'bravo', 'brrr', 'c', 'car', 'ce', 'ceci', 'cela', 'celle', 'celle-ci', 'celle-là', 'celles', 'celles-ci', 'celles-là', 'celui', 'celui-ci', 'celui-là', 'cent', 'cependant', 'certain', 'certaine', 'certaines', 'certains', 'certes', 'ces', 'cet', 'cette', 'ceux', 'ceux-ci', 'ceux-là', 'chacun', 'chacune', 'chaque', 'cher', 'chers', 'chez', 'chiche', 'chut', 'chère', 'chères', 'ci', 'cinq', 'cinquantaine', 'cinquante', 'cinquantième', 'cinquième', 'clac', 'clic', 'combien', 'comme', 'comment', 'comparable', 'comparables', 'compris', 'concernant', 'contre', 'couic', 'crac', 'd', 'da', 'dans', 'de', 'debout', 'dedans', 'dehors', 'deja', 'delà', 'depuis', 'dernier', 'derniere', 'derriere', 'derrière', 'des', 'desormais', 'desquelles', 'desquels', 'dessous', 'dessus', 'deux', 'deuxième', 'deuxièmement', 'devant', 'devers', 'devra', 'different', 'differentes', 'differents', 'dire', 'divers', 'diverse', 'diverses', 'dix', 'dix-huit', 'dix-neuf', 'dix-sept', 'dixième', 'doit', 'doivent', 'donc', 'dont', 'douze', 'douzième', 'dring', 'droite', 'du', 'duquel', 'durant', 'dès', 'désormais', 'e', 'effet', 'eh', 'elle', 'elle-même', 'elles', 'elles-mêmes', 'en', 'encore', 'enfin', 'entre', 'envers', 'environ', 'es', 'est', 'et', 'etaient', 'etais', 'etait', 'etant', 'etc', 'etre', 'eu', 'euh', 'eux', 'eux-mêmes', 'exactement', 'excepté', 'extenso', 'exterieur', 'f', 'fais', 'faisaient', 'faisant', 'fait', 'façon', 'feront', 'fi', 'flac', 'floc', 'font', 'force', 'furent', 'fut', 'g', 'gens', 'h', 'ha', 'haut', 'hein', 'hem', 'hep', 'hi', 'ho', 'holà', 'hop', 'hormis', 'hors', 'hou', 'houp', 'hue', 'hui', 'huit', 'huitième', 'hum', 'hurrah', 'hé', 'hélas', 'i', 'il', 'ils', 'importe', 'j', 'je', 'jusqu', 'jusque', 'juste', 'k', 'l', 'la', 'laisser', 'laquelle', 'las', 'le', 'lequel', 'les', 'lesquelles', 'lesquels', 'leur', 'leurs', 'longtemps', 'lors', 'lorsque', 'lui', 'lui-meme', 'lui-même', 'là', 'lès', 'm', 'ma', 'maint', 'maintenant', 'mais', 'malgre', 'malgré', 'maximale', 'me', 'meme', 'memes', 'merci', 'mes', 'mien', 'mienne', 'miennes', 'miens', 'mille', 'mince', 'mine', 'minimale', 'moi', 'moi-meme', 'moi-même', 'moindres', 'moins', 'mon', 'moyennant', 'multiple', 'multiples', 'même', 'mêmes', 'n', 'na', 'ne', 'neanmoins', 'necessaire', 'necessairement', 'neuf', 'neuvième', 'ni', 'nombreuses', 'nombreux', 'non', 'nos', 'notamment', 'notre', 'nous', 'nous-mêmes', 'nouveau', 'nul', 'néanmoins', 'nôtre', 'nôtres', 'o', 'oh', 'ohé', 'ollé', 'olé', 'on', 'ont', 'onze', 'onzième', 'ore', 'ou', 'ouf', 'ouias', 'oust', 'ouste', 'outre', 'ouvert', 'ouverte', 'ouverts', 'o|', 'p', 'paf', 'pan', 'par', 'parbleu', 'parce', 'parfois', 'parle', 'parlent', 'parler', 'parmi', 'parseme', 'partant', 'particulier', 'particulière', 'particulièrement', 'pas', 'passé', 'pendant', 'pense', 'permet', 'personne', 'peu', 'peut', 'peuvent', 'peux', 'pff', 'pfft', 'pfut', 'pif', 'pire'] #à compléter"
   ]
  },
  {
   "cell_type": "markdown",
   "metadata": {},
   "source": [
    "# Prétraitement du texte"
   ]
  },
  {
   "cell_type": "code",
   "execution_count": 2,
   "metadata": {},
   "outputs": [
    {
     "name": "stderr",
     "output_type": "stream",
     "text": [
      "C:\\Users\\herra\\AppData\\Local\\Temp\\ipykernel_30096\\3182249980.py:19: SettingWithCopyWarning: \n",
      "A value is trying to be set on a copy of a slice from a DataFrame\n",
      "\n",
      "See the caveats in the documentation: https://pandas.pydata.org/pandas-docs/stable/user_guide/indexing.html#returning-a-view-versus-a-copy\n",
      "  xtrain['text'][i] = create_text(xtrain['designation'][i], xtrain['description'][i])\n",
      "C:\\Users\\herra\\AppData\\Local\\Temp\\ipykernel_30096\\3182249980.py:21: SettingWithCopyWarning: \n",
      "A value is trying to be set on a copy of a slice from a DataFrame\n",
      "\n",
      "See the caveats in the documentation: https://pandas.pydata.org/pandas-docs/stable/user_guide/indexing.html#returning-a-view-versus-a-copy\n",
      "  xtest['text'][j] = create_text(xtest['designation'][j], xtest['description'][j])\n"
     ]
    }
   ],
   "source": [
    "import pandas as pd\n",
    "from preprocess_function import lower_case, remove_accent, remove_htmltags, keeping_essentiel, create_text\n",
    "df_xtrain = pd.read_csv('X_train_update.csv', index_col=0)\n",
    "df_ytrain = pd.read_csv('Y_train_CVw08PX.csv',index_col=0)\n",
    "df_xtest = pd.read_csv('X_test_update.csv',index_col=0)\n",
    "\n",
    "xtrain = df_xtrain\n",
    "xtest= df_xtest\n",
    "ytrain= df_ytrain\n",
    "\n",
    "xtrain['designation'] = xtrain['designation'].astype('string')\n",
    "xtrain['description'] = xtrain['description'].astype('string')\n",
    "xtest['designation'] = xtest['designation'].astype('string')\n",
    "xtest['description'] = xtest['description'].astype('string')\n",
    "\n",
    "xtrain['text']=\"\"\n",
    "xtest['text']=\"\"\n",
    "for i in range(xtrain.shape[0]):\n",
    "    xtrain['text'][i] = create_text(xtrain['designation'][i], xtrain['description'][i])\n",
    "for j in range(xtrain.shape[0],xtrain.shape[0]+xtest.shape[0]):\n",
    "    xtest['text'][j] = create_text(xtest['designation'][j], xtest['description'][j])\n",
    "\n",
    "xtrain['text'] = xtrain['text'].apply(lambda text : lower_case(text))  # Conversion en minuscules\n",
    "xtrain['text'] = xtrain['text'].apply(lambda text : remove_accent(text)) # Suppression des accents\n",
    "xtrain['text'] = xtrain['text'].apply(lambda x: ' '.join([word for word in x.split() if word not in stopwords]))  # Suppression des stopwords\n",
    "xtrain['text'] = xtrain['text'].apply(lambda text : remove_htmltags(text))  # Suppression des encodmages htmls\n",
    "xtrain['text'] = xtrain['text'].apply(lambda text : keeping_essentiel(text))\n",
    "xtest['text'] = xtest['text'].apply(lambda text : lower_case(text))  # Conversion en minuscules\n",
    "xtest['text'] = xtest['text'].apply(lambda text : remove_accent(text)) # Suppression des accents\n",
    "xtest['text'] = xtest['text'].apply(lambda x: ' '.join([word for word in x.split() if word not in stopwords]))  # Suppression des stopwords\n",
    "xtest['text'] = xtest['text'].apply(lambda text : remove_htmltags(text))  # Suppression des encodmages htmls\n",
    "xtest['text'] = xtest['text'].apply(lambda text : keeping_essentiel(text))\n",
    "\n",
    "\n"
   ]
  },
  {
   "cell_type": "code",
   "execution_count": 3,
   "metadata": {},
   "outputs": [
    {
     "name": "stdout",
     "output_type": "stream",
     "text": [
      "13812\n"
     ]
    },
    {
     "data": {
      "text/plain": [
       "'folkmanis puppets marionnette theatre mini turtle'"
      ]
     },
     "execution_count": 3,
     "metadata": {},
     "output_type": "execute_result"
    }
   ],
   "source": [
    "print(xtest.shape[0])\n",
    "xtest['text'][84916]"
   ]
  },
  {
   "cell_type": "markdown",
   "metadata": {},
   "source": [
    "Les données sont plus 'propres' maintenant\n",
    "\n",
    "# Labelisation\n",
    "On va réorganiser les labels pour avoir des valeurs entre 0 et 26 au lieu de valeurs arbitraires 10, 2403, etc..."
   ]
  },
  {
   "cell_type": "code",
   "execution_count": 4,
   "metadata": {},
   "outputs": [],
   "source": [
    "# Combiner les dictionnaires\n",
    "prdtypecode_mapping = {10: 0, 40: 1, 50: 2, 60: 3, 1140: 4, 1160: 5, 1180: 6, 1280: 7, 1281: 8, 1300: 9, \n",
    "                       1301: 10, 1302: 11, 1320: 12, 1560: 13, 1920: 14, 1940: 15, 2060: 16, 2220: 17, \n",
    "                       2280: 18, 2403: 19, 2462: 20, 2522: 21, 2582: 22, 2583: 23, 2585: 24, 2705: 25, \n",
    "                       2905: 26}\n",
    "\n",
    "# Appliquer la méthode remplacer\n",
    "xtrain.replace({'prdtypecode': prdtypecode_mapping}, inplace=True)\n",
    "xtest.replace({'prdtypecode': prdtypecode_mapping}, inplace=True)\n",
    "ytrain.replace({'prdtypecode': prdtypecode_mapping}, inplace=True)"
   ]
  },
  {
   "cell_type": "code",
   "execution_count": 5,
   "metadata": {},
   "outputs": [],
   "source": [
    "xtrain.to_csv('xtrain.csv') #sauvegarde du fichier\n",
    "xtest.to_csv('xtest.csv') #sauvegarde du fichier\n",
    "ytrain.to_csv('ytrain.csv') #sauvegarde du fichier"
   ]
  }
 ],
 "metadata": {
  "kernelspec": {
   "display_name": "base",
   "language": "python",
   "name": "python3"
  },
  "language_info": {
   "codemirror_mode": {
    "name": "ipython",
    "version": 3
   },
   "file_extension": ".py",
   "mimetype": "text/x-python",
   "name": "python",
   "nbconvert_exporter": "python",
   "pygments_lexer": "ipython3",
   "version": "3.10.9"
  }
 },
 "nbformat": 4,
 "nbformat_minor": 2
}
