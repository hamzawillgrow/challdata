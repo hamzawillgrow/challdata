{
 "cells": [
  {
   "cell_type": "code",
   "execution_count": 6,
   "metadata": {},
   "outputs": [
    {
     "name": "stdout",
     "output_type": "stream",
     "text": [
      "                                         designation  \\\n",
      "0  Olivia: Personalisiertes Notizbuch / 150 Seite...   \n",
      "1  Journal Des Arts (Le) N° 133 Du 28/09/2001 - L...   \n",
      "2  Grand Stylet Ergonomique Bleu Gamepad Nintendo...   \n",
      "3  Peluche Donald - Europe - Disneyland 2000 (Mar...   \n",
      "4                               La Guerre Des Tuques   \n",
      "\n",
      "                                         description   productid     imageid  \n",
      "0                                                NaN  3804725264  1263597046  \n",
      "1                                                NaN   436067568  1008141237  \n",
      "2  PILOT STYLE Touch Pen de marque Speedlink est ...   201115110   938777978  \n",
      "3                                                NaN    50418756   457047496  \n",
      "4  Luc a des id&eacute;es de grandeur. Il veut or...   278535884  1077757786  \n",
      "          productid       imageid\n",
      "count  8.491600e+04  8.491600e+04\n",
      "mean   2.555468e+09  1.152691e+09\n",
      "std    1.588656e+09  1.751427e+08\n",
      "min    1.839120e+05  6.728400e+04\n",
      "25%    6.760519e+08  1.056269e+09\n",
      "50%    3.190506e+09  1.213354e+09\n",
      "75%    3.995599e+09  1.275646e+09\n",
      "max    4.252012e+09  1.328824e+09\n",
      "designation    object\n",
      "description    object\n",
      "productid       int64\n",
      "imageid         int64\n",
      "dtype: object\n",
      "(84916, 4)\n",
      "designation        0\n",
      "description    29800\n",
      "productid          0\n",
      "imageid            0\n",
      "dtype: int64\n"
     ]
    }
   ],
   "source": [
    "import pandas as pd\n",
    "import numpy as np\n",
    "\n",
    "# lire les fichiers csv\n",
    "df_xtrain = pd.read_csv('X_train_update.csv', index_col=0) \n",
    "df_ytrain = pd.read_csv('Y_train_CVw08PX.csv',index_col=0) \n",
    "df_xtest = pd.read_csv('X_test_update.csv', index_col=0) \n",
    "\n",
    "# Display the first few rows of the dataframe\n",
    "print(df_xtrain.head())\n",
    "\n",
    "# Sommaire statistique\n",
    "print(df_xtrain.describe())\n",
    "\n",
    "# data type\n",
    "print(df_xtrain.dtypes)\n",
    "\n",
    "# Check le nombre de lignes et de colonnes\n",
    "print(df_xtrain.shape)\n",
    "\n",
    "# Check pour les valeurs manquantes\n",
    "print(df_xtrain.isnull().sum())"
   ]
  },
  {
   "cell_type": "markdown",
   "metadata": {},
   "source": [
    "# Size exploration\n",
    "Empty and Duplicated data"
   ]
  },
  {
   "cell_type": "code",
   "execution_count": 5,
   "metadata": {},
   "outputs": [
    {
     "data": {
      "text/plain": [
       "'df_xtrain number of duplicated:'"
      ]
     },
     "metadata": {},
     "output_type": "display_data"
    },
    {
     "data": {
      "text/plain": [
       "0"
      ]
     },
     "metadata": {},
     "output_type": "display_data"
    },
    {
     "data": {
      "text/plain": [
       "'df_xtest number of duplicated: '"
      ]
     },
     "metadata": {},
     "output_type": "display_data"
    },
    {
     "data": {
      "text/plain": [
       "0"
      ]
     },
     "metadata": {},
     "output_type": "display_data"
    },
    {
     "data": {
      "text/plain": [
       "'df_ytrain number of duplicated: '"
      ]
     },
     "metadata": {},
     "output_type": "display_data"
    },
    {
     "data": {
      "text/plain": [
       "84889"
      ]
     },
     "metadata": {},
     "output_type": "display_data"
    },
    {
     "name": "stdout",
     "output_type": "stream",
     "text": [
      "missing values\n",
      "df_xtrain: \n",
      " description    29800\n",
      "dtype: int64\n",
      " \n",
      " df_xtest: \n",
      " description    4886\n",
      "dtype: int64\n",
      " \n",
      "df_ytrain: \n",
      " Series([], dtype: int64)\n"
     ]
    },
    {
     "data": {
      "text/plain": [
       "designation     0.00\n",
       "description    35.09\n",
       "productid       0.00\n",
       "imageid         0.00\n",
       "dtype: float64"
      ]
     },
     "execution_count": 5,
     "metadata": {},
     "output_type": "execute_result"
    }
   ],
   "source": [
    "# Check les valeurs dupliquées\n",
    "display('df_xtrain number of duplicated:', df_xtrain.duplicated().sum())\n",
    "display('df_xtest number of duplicated: ', df_xtest.duplicated().sum())\n",
    "display('df_ytrain number of duplicated: ', df_ytrain.duplicated().sum())\n",
    " \n",
    "print(\"missing values\")\n",
    "\n",
    "# Check les valeurs manquantes\n",
    "null_counts = df_xtrain.isnull().sum().sort_values(ascending=False)\n",
    "print('df_xtrain: \\n', null_counts[null_counts > 0])\n",
    "\n",
    "null_counts = df_xtest.isnull().sum().sort_values(ascending=False)\n",
    "print(' \\n df_xtest: \\n',null_counts[null_counts > 0])\n",
    "\n",
    "null_counts = df_ytrain.isnull().sum().sort_values(ascending=False)\n",
    "print(' \\ndf_ytrain: \\n',null_counts[null_counts > 0])\n",
    "\n",
    "np.round(df_xtrain.isna().sum()*100/len(df_xtrain),2)"
   ]
  },
  {
   "cell_type": "code",
   "execution_count": 8,
   "metadata": {},
   "outputs": [
    {
     "data": {
      "text/plain": [
       "2583    12.02%\n",
       "1560     5.97%\n",
       "1300     5.94%\n",
       "2060     5.88%\n",
       "2522     5.88%\n",
       "1280     5.74%\n",
       "2403     5.62%\n",
       "2280     5.61%\n",
       "1920     5.07%\n",
       "1160     4.66%\n",
       "1320     3.82%\n",
       "10       3.67%\n",
       "2705     3.25%\n",
       "1140     3.15%\n",
       "2582     3.05%\n",
       "40       2.95%\n",
       "2585     2.94%\n",
       "1302     2.93%\n",
       "1281     2.44%\n",
       "50       1.98%\n",
       "2462     1.67%\n",
       "2905     1.03%\n",
       "60       0.98%\n",
       "2220     0.97%\n",
       "1301     0.95%\n",
       "1940     0.95%\n",
       "1180      0.9%\n",
       "Name: prdtypecode, dtype: object"
      ]
     },
     "metadata": {},
     "output_type": "display_data"
    }
   ],
   "source": [
    "# Compter le nombre de classes uniques\n",
    "unique, counts = np.unique(df_ytrain[\"prdtypecode\"], return_counts=True)\n",
    "\n",
    "# Pourcentage des produits unique\n",
    "display(df_ytrain[\"prdtypecode\"].value_counts(normalize=True).mul(100).round(2).astype(str) + '%')"
   ]
  },
  {
   "cell_type": "markdown",
   "metadata": {},
   "source": []
  }
 ],
 "metadata": {
  "kernelspec": {
   "display_name": "base",
   "language": "python",
   "name": "python3"
  },
  "language_info": {
   "codemirror_mode": {
    "name": "ipython",
    "version": 3
   },
   "file_extension": ".py",
   "mimetype": "text/x-python",
   "name": "python",
   "nbconvert_exporter": "python",
   "pygments_lexer": "ipython3",
   "version": "3.10.9"
  }
 },
 "nbformat": 4,
 "nbformat_minor": 2
}
