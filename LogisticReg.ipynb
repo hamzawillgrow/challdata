{
 "cells": [
  {
   "cell_type": "code",
   "execution_count": 7,
   "metadata": {},
   "outputs": [],
   "source": [
    "import pandas as pd\n",
    "import re\n",
    "import spacy\n",
    "import numpy as np\n",
    "from scipy import sparse"
   ]
  },
  {
   "cell_type": "code",
   "execution_count": 8,
   "metadata": {},
   "outputs": [],
   "source": [
    "X = sparse.load_npz('Xtrain_matrix.npz')\n",
    "y = pd.read_csv('ytrain.csv')\n"
   ]
  },
  {
   "cell_type": "markdown",
   "metadata": {},
   "source": [
    "# Découpage des données\n",
    "On n'a pas de y_test avec le x_test fournit, on découpe alors notre x_train pour obtenir un échantillon de validation"
   ]
  },
  {
   "cell_type": "code",
   "execution_count": 9,
   "metadata": {},
   "outputs": [],
   "source": [
    "from sklearn.model_selection import train_test_split\n",
    "X_train, X_test, y_train, y_test = train_test_split(X, y, test_size=0.2)"
   ]
  },
  {
   "cell_type": "code",
   "execution_count": 14,
   "metadata": {},
   "outputs": [
    {
     "name": "stdout",
     "output_type": "stream",
     "text": [
      "(67932, 160403)\n",
      "(13812, 57458)\n",
      "(67932, 2)\n",
      "(16984, 2)\n"
     ]
    }
   ],
   "source": [
    "print(X_train.shape)\n",
    "print(X_test.shape)\n",
    "print(y_train.shape)\n",
    "print(y_test.shape)"
   ]
  },
  {
   "cell_type": "markdown",
   "metadata": {},
   "source": [
    "# Modèle"
   ]
  },
  {
   "cell_type": "code",
   "execution_count": 17,
   "metadata": {},
   "outputs": [],
   "source": [
    "from sklearn import linear_model\n",
    "\n",
    "clf = linear_model.LogisticRegression(multi_class='multinomial',class_weight= \"balanced\", max_iter=1000)\n",
    "clf.fit(X_train, y_train['prdtypecode'])\n",
    "\n",
    "y_pred = clf.predict(X_test)\n",
    "\n",
    "X_test = sparse.load_npz('Xtest_matrix.npz')\n",
    "y_pred = clf.predict(X_test)\n",
    "\n",
    "y_pred = pd.DataFrame(y_pred, columns=['prdtypecode'])\n",
    "\n",
    "#  Classe classification_report pour afficher les résultats \n",
    "from sklearn.metrics import classification_report\n",
    "\n",
    "result = classification_report(y_test, y_pred)\n",
    "print(\"Classification report :\")\n",
    "print(result)\n",
    "\n",
    "print(\"Score : \"+str(clf.score(X_test, y_test)))"
   ]
  }
 ],
 "metadata": {
  "kernelspec": {
   "display_name": "base",
   "language": "python",
   "name": "python3"
  },
  "language_info": {
   "codemirror_mode": {
    "name": "ipython",
    "version": 3
   },
   "file_extension": ".py",
   "mimetype": "text/x-python",
   "name": "python",
   "nbconvert_exporter": "python",
   "pygments_lexer": "ipython3",
   "version": "3.10.9"
  }
 },
 "nbformat": 4,
 "nbformat_minor": 2
}
